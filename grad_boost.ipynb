{
 "cells": [
  {
   "cell_type": "code",
   "execution_count": 104,
   "metadata": {},
   "outputs": [],
   "source": [
    "import pandas as pd\n",
    "import numpy as np\n",
    "from sklearn.model_selection import train_test_split\n",
    "from sklearn.metrics import confusion_matrix, ConfusionMatrixDisplay, roc_curve, roc_auc_score\n",
    "import xgboost as xgb\n",
    "import matplotlib.pyplot as plt"
   ]
  },
  {
   "cell_type": "code",
   "execution_count": 2,
   "metadata": {},
   "outputs": [
    {
     "data": {
      "text/html": [
       "<div>\n",
       "<style scoped>\n",
       "    .dataframe tbody tr th:only-of-type {\n",
       "        vertical-align: middle;\n",
       "    }\n",
       "\n",
       "    .dataframe tbody tr th {\n",
       "        vertical-align: top;\n",
       "    }\n",
       "\n",
       "    .dataframe thead th {\n",
       "        text-align: right;\n",
       "    }\n",
       "</style>\n",
       "<table border=\"1\" class=\"dataframe\">\n",
       "  <thead>\n",
       "    <tr style=\"text-align: right;\">\n",
       "      <th></th>\n",
       "      <th>0</th>\n",
       "      <th>1</th>\n",
       "      <th>2</th>\n",
       "      <th>3</th>\n",
       "      <th>4</th>\n",
       "      <th>5</th>\n",
       "      <th>6</th>\n",
       "      <th>7</th>\n",
       "      <th>8</th>\n",
       "      <th>9</th>\n",
       "      <th>...</th>\n",
       "      <th>11</th>\n",
       "      <th>12</th>\n",
       "      <th>13</th>\n",
       "      <th>14</th>\n",
       "      <th>15</th>\n",
       "      <th>16</th>\n",
       "      <th>17</th>\n",
       "      <th>18</th>\n",
       "      <th>19</th>\n",
       "      <th>20</th>\n",
       "    </tr>\n",
       "  </thead>\n",
       "  <tbody>\n",
       "    <tr>\n",
       "      <th>0</th>\n",
       "      <td>A11</td>\n",
       "      <td>6</td>\n",
       "      <td>A34</td>\n",
       "      <td>A43</td>\n",
       "      <td>1169</td>\n",
       "      <td>A65</td>\n",
       "      <td>A75</td>\n",
       "      <td>4</td>\n",
       "      <td>A93</td>\n",
       "      <td>A101</td>\n",
       "      <td>...</td>\n",
       "      <td>A121</td>\n",
       "      <td>67</td>\n",
       "      <td>A143</td>\n",
       "      <td>A152</td>\n",
       "      <td>2</td>\n",
       "      <td>A173</td>\n",
       "      <td>1</td>\n",
       "      <td>A192</td>\n",
       "      <td>A201</td>\n",
       "      <td>1</td>\n",
       "    </tr>\n",
       "    <tr>\n",
       "      <th>1</th>\n",
       "      <td>A12</td>\n",
       "      <td>48</td>\n",
       "      <td>A32</td>\n",
       "      <td>A43</td>\n",
       "      <td>5951</td>\n",
       "      <td>A61</td>\n",
       "      <td>A73</td>\n",
       "      <td>2</td>\n",
       "      <td>A92</td>\n",
       "      <td>A101</td>\n",
       "      <td>...</td>\n",
       "      <td>A121</td>\n",
       "      <td>22</td>\n",
       "      <td>A143</td>\n",
       "      <td>A152</td>\n",
       "      <td>1</td>\n",
       "      <td>A173</td>\n",
       "      <td>1</td>\n",
       "      <td>A191</td>\n",
       "      <td>A201</td>\n",
       "      <td>2</td>\n",
       "    </tr>\n",
       "    <tr>\n",
       "      <th>2</th>\n",
       "      <td>A14</td>\n",
       "      <td>12</td>\n",
       "      <td>A34</td>\n",
       "      <td>A46</td>\n",
       "      <td>2096</td>\n",
       "      <td>A61</td>\n",
       "      <td>A74</td>\n",
       "      <td>2</td>\n",
       "      <td>A93</td>\n",
       "      <td>A101</td>\n",
       "      <td>...</td>\n",
       "      <td>A121</td>\n",
       "      <td>49</td>\n",
       "      <td>A143</td>\n",
       "      <td>A152</td>\n",
       "      <td>1</td>\n",
       "      <td>A172</td>\n",
       "      <td>2</td>\n",
       "      <td>A191</td>\n",
       "      <td>A201</td>\n",
       "      <td>1</td>\n",
       "    </tr>\n",
       "    <tr>\n",
       "      <th>3</th>\n",
       "      <td>A11</td>\n",
       "      <td>42</td>\n",
       "      <td>A32</td>\n",
       "      <td>A42</td>\n",
       "      <td>7882</td>\n",
       "      <td>A61</td>\n",
       "      <td>A74</td>\n",
       "      <td>2</td>\n",
       "      <td>A93</td>\n",
       "      <td>A103</td>\n",
       "      <td>...</td>\n",
       "      <td>A122</td>\n",
       "      <td>45</td>\n",
       "      <td>A143</td>\n",
       "      <td>A153</td>\n",
       "      <td>1</td>\n",
       "      <td>A173</td>\n",
       "      <td>2</td>\n",
       "      <td>A191</td>\n",
       "      <td>A201</td>\n",
       "      <td>1</td>\n",
       "    </tr>\n",
       "    <tr>\n",
       "      <th>4</th>\n",
       "      <td>A11</td>\n",
       "      <td>24</td>\n",
       "      <td>A33</td>\n",
       "      <td>A40</td>\n",
       "      <td>4870</td>\n",
       "      <td>A61</td>\n",
       "      <td>A73</td>\n",
       "      <td>3</td>\n",
       "      <td>A93</td>\n",
       "      <td>A101</td>\n",
       "      <td>...</td>\n",
       "      <td>A124</td>\n",
       "      <td>53</td>\n",
       "      <td>A143</td>\n",
       "      <td>A153</td>\n",
       "      <td>2</td>\n",
       "      <td>A173</td>\n",
       "      <td>2</td>\n",
       "      <td>A191</td>\n",
       "      <td>A201</td>\n",
       "      <td>2</td>\n",
       "    </tr>\n",
       "  </tbody>\n",
       "</table>\n",
       "<p>5 rows × 21 columns</p>\n",
       "</div>"
      ],
      "text/plain": [
       "    0   1    2    3     4    5    6   7    8     9   ...    11  12    13  \\\n",
       "0  A11   6  A34  A43  1169  A65  A75   4  A93  A101  ...  A121  67  A143   \n",
       "1  A12  48  A32  A43  5951  A61  A73   2  A92  A101  ...  A121  22  A143   \n",
       "2  A14  12  A34  A46  2096  A61  A74   2  A93  A101  ...  A121  49  A143   \n",
       "3  A11  42  A32  A42  7882  A61  A74   2  A93  A103  ...  A122  45  A143   \n",
       "4  A11  24  A33  A40  4870  A61  A73   3  A93  A101  ...  A124  53  A143   \n",
       "\n",
       "     14 15    16 17    18    19 20  \n",
       "0  A152  2  A173  1  A192  A201  1  \n",
       "1  A152  1  A173  1  A191  A201  2  \n",
       "2  A152  1  A172  2  A191  A201  1  \n",
       "3  A153  1  A173  2  A191  A201  1  \n",
       "4  A153  2  A173  2  A191  A201  2  \n",
       "\n",
       "[5 rows x 21 columns]"
      ]
     },
     "execution_count": 2,
     "metadata": {},
     "output_type": "execute_result"
    }
   ],
   "source": [
    "df = pd.read_table('./data/germancredit.txt', header=None, sep=' ')\n",
    "df.head(5)"
   ]
  },
  {
   "cell_type": "code",
   "execution_count": 19,
   "metadata": {},
   "outputs": [
    {
     "name": "stdout",
     "output_type": "stream",
     "text": [
      "                1             4            7            10           12  \\\n",
      "count  1000.000000   1000.000000  1000.000000  1000.000000  1000.000000   \n",
      "mean     20.903000   3271.258000     2.973000     2.845000    35.546000   \n",
      "std      12.058814   2822.736876     1.118715     1.103718    11.375469   \n",
      "min       4.000000    250.000000     1.000000     1.000000    19.000000   \n",
      "25%      12.000000   1365.500000     2.000000     2.000000    27.000000   \n",
      "50%      18.000000   2319.500000     3.000000     3.000000    33.000000   \n",
      "75%      24.000000   3972.250000     4.000000     4.000000    42.000000   \n",
      "max      72.000000  18424.000000     4.000000     4.000000    75.000000   \n",
      "\n",
      "                15           17           20  \n",
      "count  1000.000000  1000.000000  1000.000000  \n",
      "mean      1.407000     1.155000     1.300000  \n",
      "std       0.577654     0.362086     0.458487  \n",
      "min       1.000000     1.000000     1.000000  \n",
      "25%       1.000000     1.000000     1.000000  \n",
      "50%       1.000000     1.000000     1.000000  \n",
      "75%       2.000000     1.000000     2.000000  \n",
      "max       4.000000     2.000000     2.000000  \n"
     ]
    }
   ],
   "source": [
    "print(df.describe())"
   ]
  },
  {
   "cell_type": "code",
   "execution_count": 18,
   "metadata": {},
   "outputs": [
    {
     "name": "stdout",
     "output_type": "stream",
     "text": [
      "0     category\n",
      "1        int64\n",
      "2     category\n",
      "3     category\n",
      "4        int64\n",
      "5     category\n",
      "6     category\n",
      "7        int64\n",
      "8     category\n",
      "9     category\n",
      "10       int64\n",
      "11    category\n",
      "12       int64\n",
      "13    category\n",
      "14    category\n",
      "15       int64\n",
      "16    category\n",
      "17       int64\n",
      "18    category\n",
      "19    category\n",
      "20       int64\n",
      "dtype: object\n"
     ]
    }
   ],
   "source": [
    "# convert table to pd dataframe\n",
    "df = pd.DataFrame(df)\n",
    "\n",
    "# convert current string variables to categorical values\n",
    "categoricals = df.select_dtypes(exclude=np.number).columns.tolist()\n",
    "\n",
    "for col in categoricals:\n",
    "    df[col] = df[col].astype('category')\n",
    "\n",
    "print(df.dtypes)"
   ]
  },
  {
   "cell_type": "code",
   "execution_count": 19,
   "metadata": {},
   "outputs": [
    {
     "name": "stdout",
     "output_type": "stream",
     "text": [
      "          0            1     2     3             4     5     6            7   \\\n",
      "count   1000  1000.000000  1000  1000   1000.000000  1000  1000  1000.000000   \n",
      "unique     4          NaN     5    10           NaN     5     5          NaN   \n",
      "top      A14          NaN   A32   A43           NaN   A61   A73          NaN   \n",
      "freq     394          NaN   530   280           NaN   603   339          NaN   \n",
      "mean     NaN    20.903000   NaN   NaN   3271.258000   NaN   NaN     2.973000   \n",
      "std      NaN    12.058814   NaN   NaN   2822.736876   NaN   NaN     1.118715   \n",
      "min      NaN     4.000000   NaN   NaN    250.000000   NaN   NaN     1.000000   \n",
      "25%      NaN    12.000000   NaN   NaN   1365.500000   NaN   NaN     2.000000   \n",
      "50%      NaN    18.000000   NaN   NaN   2319.500000   NaN   NaN     3.000000   \n",
      "75%      NaN    24.000000   NaN   NaN   3972.250000   NaN   NaN     4.000000   \n",
      "max      NaN    72.000000   NaN   NaN  18424.000000   NaN   NaN     4.000000   \n",
      "\n",
      "          8     9   ...    11           12    13    14           15    16  \\\n",
      "count   1000  1000  ...  1000  1000.000000  1000  1000  1000.000000  1000   \n",
      "unique     4     3  ...     4          NaN     3     3          NaN     4   \n",
      "top      A93  A101  ...  A123          NaN  A143  A152          NaN  A173   \n",
      "freq     548   907  ...   332          NaN   814   713          NaN   630   \n",
      "mean     NaN   NaN  ...   NaN    35.546000   NaN   NaN     1.407000   NaN   \n",
      "std      NaN   NaN  ...   NaN    11.375469   NaN   NaN     0.577654   NaN   \n",
      "min      NaN   NaN  ...   NaN    19.000000   NaN   NaN     1.000000   NaN   \n",
      "25%      NaN   NaN  ...   NaN    27.000000   NaN   NaN     1.000000   NaN   \n",
      "50%      NaN   NaN  ...   NaN    33.000000   NaN   NaN     1.000000   NaN   \n",
      "75%      NaN   NaN  ...   NaN    42.000000   NaN   NaN     2.000000   NaN   \n",
      "max      NaN   NaN  ...   NaN    75.000000   NaN   NaN     4.000000   NaN   \n",
      "\n",
      "                 17    18    19           20  \n",
      "count   1000.000000  1000  1000  1000.000000  \n",
      "unique          NaN     2     2          NaN  \n",
      "top             NaN  A191  A201          NaN  \n",
      "freq            NaN   596   963          NaN  \n",
      "mean       1.155000   NaN   NaN     0.700000  \n",
      "std        0.362086   NaN   NaN     0.458487  \n",
      "min        1.000000   NaN   NaN     0.000000  \n",
      "25%        1.000000   NaN   NaN     0.000000  \n",
      "50%        1.000000   NaN   NaN     1.000000  \n",
      "75%        1.000000   NaN   NaN     1.000000  \n",
      "max        2.000000   NaN   NaN     1.000000  \n",
      "\n",
      "[11 rows x 21 columns]\n"
     ]
    }
   ],
   "source": [
    "print(df.describe(include='all'))"
   ]
  },
  {
   "cell_type": "code",
   "execution_count": 21,
   "metadata": {},
   "outputs": [
    {
     "name": "stdout",
     "output_type": "stream",
     "text": [
      "0    1\n",
      "1    0\n",
      "2    1\n",
      "3    1\n",
      "4    0\n",
      "Name: 20, dtype: int64\n"
     ]
    }
   ],
   "source": [
    "# currently the response is a binary of 1 and 2: 1 = good, 2 = bad.\n",
    "# we need to convert to binary 0, 1.\n",
    "# 0 = bad, 1 = good\n",
    "\n",
    "df[20] = df[20].replace(2, 0)\n",
    "print(df[20].head())"
   ]
  },
  {
   "cell_type": "code",
   "execution_count": 27,
   "metadata": {},
   "outputs": [],
   "source": [
    "# isolate train and test predictors\n",
    "x = df.drop(columns=[20]) # drop response\n",
    "y = df[20] # select response\n",
    "\n",
    "# separate into train and test\n",
    "x_train, x_test, y_train, y_test = train_test_split(x, y, test_size=.2, random_state=69)\n",
    "\n",
    "# create regression matrices in the optimized format for xgboost\n",
    "xgb_train = xgb.DMatrix(x_train, y_train, enable_categorical=True)\n",
    "xgb_test = xgb.DMatrix(x_test, y_test, enable_categorical=True)"
   ]
  },
  {
   "cell_type": "code",
   "execution_count": 34,
   "metadata": {},
   "outputs": [
    {
     "name": "stdout",
     "output_type": "stream",
     "text": [
      "[0]\ttrain-logloss:0.52126\ttest-logloss:0.54191\n",
      "[10]\ttrain-logloss:0.23435\ttest-logloss:0.47857\n",
      "[20]\ttrain-logloss:0.14995\ttest-logloss:0.49525\n",
      "[29]\ttrain-logloss:0.10815\ttest-logloss:0.51654\n",
      "9\n",
      "0.47815398635342715\n"
     ]
    }
   ],
   "source": [
    "# define hyper params for model build\n",
    "params = {\"objective\": \"binary:logistic\", \"eval_metric\": \"logloss\"}\n",
    "n = 150 # use high num of rounds to start\n",
    "evals = [(xgb_train, \"train\"), (xgb_test, \"test\")]\n",
    "evals_result = {} # define dict for recording logloss value for each run\n",
    "\n",
    "# build model\n",
    "model = xgb.train(\n",
    "    params = params,\n",
    "    dtrain = xgb_train,\n",
    "    num_boost_round = n,\n",
    "    evals = evals,\n",
    "    early_stopping_rounds = 20,\n",
    "    verbose_eval = 10, # print results of every ten rounds\n",
    "    evals_result = evals_result\n",
    ")\n",
    "\n",
    "print(model.best_iteration) # best iteration was round 9\n",
    "print(model.best_score) # 0.478\n"
   ]
  },
  {
   "cell_type": "code",
   "execution_count": 37,
   "metadata": {},
   "outputs": [
    {
     "name": "stdout",
     "output_type": "stream",
     "text": [
      "[0.8547475  0.780077   0.9958133  0.9931694  0.934192   0.9197634\n",
      " 0.53167766 0.9875258  0.95269567 0.96931183]\n"
     ]
    }
   ],
   "source": [
    "pred = model.predict(xgb_test) # Note this predicts probabilities, not binary values\n",
    "print(pred[:10])"
   ]
  },
  {
   "cell_type": "code",
   "execution_count": 40,
   "metadata": {},
   "outputs": [
    {
     "name": "stdout",
     "output_type": "stream",
     "text": [
      "0.215\n",
      "0.4636809247747852\n"
     ]
    }
   ],
   "source": [
    "rounded_pred = np.round(pred)\n",
    "\n",
    "mse = np.mean((y_test - (rounded_pred)) ** 2)\n",
    "print(mse) # .215 -> not bad\n",
    "\n",
    "rmse = np.sqrt(mse)\n",
    "print(rmse) # .464\n",
    "\n",
    "accuracy = np.sum(rounded_pred == y_test) / len(y_test)\n",
    "print(accuracy * 100) # 78.5%"
   ]
  },
  {
   "cell_type": "code",
   "execution_count": 105,
   "metadata": {},
   "outputs": [
    {
     "data": {
      "image/png": "[encoded data removed]",
      "text/plain": [
       "<Figure size 640x480 with 2 Axes>"
      ]
     },
     "metadata": {},
     "output_type": "display_data"
    }
   ],
   "source": [
    "# confusion matrix\n",
    "conf_mat = confusion_matrix(y_test, rounded_pred)\n",
    "\n",
    "# make it more presentable\n",
    "cm_display = ConfusionMatrixDisplay(confusion_matrix = conf_mat, display_labels = [0, 1])\n",
    "\n",
    "cm_display.plot()\n",
    "plt.show()"
   ]
  },
  {
   "cell_type": "code",
   "execution_count": 62,
   "metadata": {},
   "outputs": [
    {
     "name": "stdout",
     "output_type": "stream",
     "text": [
      "AUC score: 0.6893708777270421\n"
     ]
    },
    {
     "data": {
      "image/png": "[encoded data removed]",
      "text/plain": [
       "<Figure size 640x480 with 1 Axes>"
      ]
     },
     "metadata": {},
     "output_type": "display_data"
    }
   ],
   "source": [
    "def plot_roc_curve(true_y, y_prob):\n",
    "    fpr, tpr, thresholds = roc_curve(true_y, y_prob)\n",
    "    plt.plot(fpr, tpr)\n",
    "    plt.xlabel('False Positive Rate')\n",
    "    plt.ylabel('True Positive Rate')\n",
    "    plt.plot([0, 1], [0, 1], 'k--') # 'no discrimination line'\n",
    "    plt.show()\n",
    "\n",
    "plot_roc_curve(y_test, rounded_pred)\n",
    "print(f'AUC score: {roc_auc_score(y_test, rounded_pred)}')"
   ]
  },
  {
   "cell_type": "code",
   "execution_count": 90,
   "metadata": {},
   "outputs": [
    {
     "name": "stdout",
     "output_type": "stream",
     "text": [
      "[1.         0.99805164 0.99680245 0.99668115 0.99618977]\n"
     ]
    }
   ],
   "source": [
    "# now let's find the highest accuracy across all of the predicted values (thresholds)\n",
    "# NOTE: to calculate auc incrementally we must start with sorted threshold values in descending order\n",
    "\n",
    "# take predicted probabilities and add 0 and 1 values\n",
    "thr = np.concat((pred, np.array([0, 1])))\n",
    "\n",
    "# get unique threshold values from the predicted values\n",
    "thr_unique = np.sort(np.unique(thr))\n",
    "\n",
    "# desc order\n",
    "desc_thr = np.flip(thr_unique)\n",
    "\n",
    "print(desc_thr[:5])\n"
   ]
  },
  {
   "cell_type": "code",
   "execution_count": 92,
   "metadata": {},
   "outputs": [
    {
     "name": "stdout",
     "output_type": "stream",
     "text": [
      "AUC = 0.7871638762049717\n",
      "          Thr       TNR       TPR    Acc\n",
      "0    1.000000  1.000000  0.000000  0.270\n",
      "1    0.998052  1.000000  0.000000  0.270\n",
      "2    0.996802  1.000000  0.006849  0.275\n",
      "3    0.996681  1.000000  0.013699  0.280\n",
      "4    0.996190  1.000000  0.020548  0.285\n",
      "..        ...       ...       ...    ...\n",
      "197  0.042607  0.055556  0.993151  0.740\n",
      "198  0.042066  0.037037  0.993151  0.735\n",
      "199  0.039178  0.018519  0.993151  0.730\n",
      "200  0.016765  0.000000  0.993151  0.725\n",
      "201  0.000000  0.000000  1.000000  0.730\n",
      "\n",
      "[202 rows x 4 columns]\n"
     ]
    }
   ],
   "source": [
    "# resource: https://www.geeksforgeeks.org/auc-roc-curve/\n",
    "\n",
    "def thr_res(thresholds, predicted_values, actual_y):\n",
    "    n = len(actual_y)\n",
    "    pos = np.sum(actual_y == 1)  # number of positive values\n",
    "    neg = np.sum(actual_y == 0)  # number of negative values\n",
    "\n",
    "    auc = 0\n",
    "    last_tpr = 1\n",
    "    last_fpr = 0\n",
    "\n",
    "    result = []\n",
    "\n",
    "    for thr in thresholds:\n",
    "        pred_round = (predicted_values > thr).astype(int)\n",
    "\n",
    "        tp = np.sum((pred_round == 1) & (actual_y == 1)) # true pos\n",
    "        fp = np.sum((pred_round == 1) & (actual_y == 0))  # false pos\n",
    "        tn = np.sum((pred_round == 0) & (actual_y == 0)) # true neg\n",
    "\n",
    "        tpr = tp / pos if pos > 0 else 0 # sensitivity\n",
    "        tnr = tn / neg if neg > 0 else 0 # specificity\n",
    "        acc = (tp + tn) / n # accuracy\n",
    "\n",
    "        # update auc incrementally\n",
    "        fpr = fp / neg if neg > 0 else 0  # false pos Rate\n",
    "        auc += (last_tpr + tpr) / 2 * (fpr - last_fpr)\n",
    "\n",
    "        result.append({'Thr': thr, 'TNR': tnr, 'TPR': tpr, 'Acc': acc})\n",
    "\n",
    "        last_tpr = tpr\n",
    "        last_fpr = fpr\n",
    "\n",
    "    result_df = pd.DataFrame(result)\n",
    "\n",
    "    print(f'AUC = {auc}')\n",
    "    return result_df\n",
    "\n",
    "result_df = thr_res(desc_thr, pred, y_test)\n",
    "\n",
    "print(result_df)\n"
   ]
  },
  {
   "cell_type": "code",
   "execution_count": 101,
   "metadata": {},
   "outputs": [
    {
     "name": "stdout",
     "output_type": "stream",
     "text": [
      "Thr    0.279405\n",
      "TNR    0.351852\n",
      "TPR    0.952055\n",
      "Acc    0.790000\n",
      "Name: 175, dtype: float64\n",
      "175\n"
     ]
    }
   ],
   "source": [
    "# check results\n",
    "# print(result_df.describe())\n",
    "\n",
    "max_accuracy = np.max(result_df['Acc']) # .79\n",
    "# print(max_accuracy)\n",
    "\n",
    "# which threshold yields the highest accuracy?\n",
    "max = 201\n",
    "count = 0\n",
    "while count < max:\n",
    "    find_row = result_df.Acc[count]\n",
    "    if find_row == max_accuracy:\n",
    "        print(result_df.iloc[count])\n",
    "    count += 1"
   ]
  },
  {
   "cell_type": "code",
   "execution_count": 106,
   "metadata": {},
   "outputs": [],
   "source": [
    "# recall that the cost of false positives in this case is 5x the cost of a false negative.\n",
    "# return the best threshold value that produces the lowest cost\n",
    "# (minimize false positives)\n",
    "\n",
    "def lowest_loss(predictions, test_y_values):\n",
    "    losses = []\n",
    "\n",
    "    for i in range(1, 101):\n",
    "        y_hat_round = (predictions > (i / 100)).astype(int)\n",
    "\n",
    "        tm = pd.crosstab(y_hat_round, test_y_values, rownames=['y_hat_round'], colnames=['test_y'])\n",
    "\n",
    "        fp = tm.loc[1, 0] if (1 in tm.index and 0 in tm.columns) else 0\n",
    "        fn = tm.loc[0, 1] if (0 in tm.index and 1 in tm.columns) else 0\n",
    "\n",
    "        loss = fp * 5 + fn\n",
    "        losses.append(loss)\n",
    "\n",
    "    return losses\n",
    "\n",
    "losses = lowest_loss(pred, y_test)\n"
   ]
  },
  {
   "cell_type": "code",
   "execution_count": 113,
   "metadata": {},
   "outputs": [],
   "source": [
    "# which is the lowest loss?\n",
    "min_loss = min(losses) # 102\n",
    "optimal_threshold = losses.index(min_loss) # .79"
   ]
  },
  {
   "cell_type": "code",
   "execution_count": 111,
   "metadata": {},
   "outputs": [
    {
     "data": {
      "image/png": "[encoded data removed]",
      "text/plain": [
       "<Figure size 1000x600 with 1 Axes>"
      ]
     },
     "metadata": {},
     "output_type": "display_data"
    }
   ],
   "source": [
    "# plot the different threshold values with associated loss values\n",
    "def loss_vs_threshold(list_of_losses):\n",
    "    thresholds = [(i / 100) for i in range(1, 101)]\n",
    "\n",
    "    plt.figure(figsize=(10, 6))\n",
    "    plt.plot(thresholds, list_of_losses, marker='o')\n",
    "    plt.xlabel('Threshold')\n",
    "    plt.ylabel('Loss')\n",
    "    plt.title('Loss v Threshold')\n",
    "    plt.grid(True)\n",
    "    plt.show()\n",
    "\n",
    "loss_vs_threshold(losses)"
   ]
  },
  {
   "cell_type": "code",
   "execution_count": 128,
   "metadata": {},
   "outputs": [
    {
     "name": "stdout",
     "output_type": "stream",
     "text": [
      "Accuracy: 0.71\n",
      "AUC: 0.7313546423135464\n"
     ]
    }
   ],
   "source": [
    "# calc accuracy and auc for chosen threshold that minimizes false positives\n",
    "y_hat_round = (pred > (optimal_threshold / 100)).astype(int)\n",
    "\n",
    "t = pd.crosstab(y_hat_round, y_test)\n",
    "\n",
    "accuracy = (t.loc[1, 1] + t.loc[0, 0]) / np.sum(t.values)\n",
    "print(f'Accuracy: {accuracy}')\n",
    "\n",
    "r_curve = roc_curve(y_test, y_hat_round)\n",
    "auc = roc_auc_score(y_test, y_hat_round)\n",
    "print(f'AUC: {auc}')\n"
   ]
  },
  {
   "cell_type": "markdown",
   "metadata": {},
   "source": [
    "#### Summary: \n",
    "Using the optimal threshold of .79 which results in the lowest cost of calculating false positives, we also find an accuracy of 71% (on test data) and an AUC value of 73%. This supports that prioritizing classifying customers using the optimal threshold value has a small impact on reducing accuracy and the model's power of correctly classifying customers as good or bad credit risks."
   ]
  }
 ],
 "metadata": {
  "kernelspec": {
   "display_name": ".venv",
   "language": "python",
   "name": "python3"
  },
  "language_info": {
   "codemirror_mode": {
    "name": "ipython",
    "version": 3
   },
   "file_extension": ".py",
   "mimetype": "text/x-python",
   "name": "python",
   "nbconvert_exporter": "python",
   "pygments_lexer": "ipython3",
   "version": "3.10.9"
  }
 },
 "nbformat": 4,
 "nbformat_minor": 2
}
